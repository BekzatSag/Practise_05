{
 "cells": [
  {
   "cell_type": "markdown",
   "metadata": {},
   "source": [
    "## 1"
   ]
  },
  {
   "cell_type": "code",
   "execution_count": null,
   "metadata": {},
   "outputs": [
    {
     "name": "stdout",
     "output_type": "stream",
     "text": [
      "No such word\n"
     ]
    }
   ],
   "source": [
    "import re\n",
    "f = open(\"row.txt\")\n",
    "txt = input(\"Enter the string: \")\n",
    "pattern = re.compile(r\".*ab*.*\")\n",
    "match = pattern.match(txt)\n",
    "if match: print(match.group())\n",
    "else: print(\"No such word\")"
   ]
  },
  {
   "cell_type": "markdown",
   "metadata": {},
   "source": [
    "## 2"
   ]
  },
  {
   "cell_type": "code",
   "execution_count": 25,
   "metadata": {},
   "outputs": [
    {
     "name": "stdout",
     "output_type": "stream",
     "text": [
      "hhhhabbjj\n"
     ]
    }
   ],
   "source": [
    "import re\n",
    "txt = input(\"Enter the string: \")\n",
    "pattern = re.compile(r\".*ab{2,3}.*\")\n",
    "match = pattern.match(txt)\n",
    "if match: print(match.group())\n",
    "else: print(\"No such word\")"
   ]
  },
  {
   "cell_type": "markdown",
   "metadata": {},
   "source": [
    "## 3"
   ]
  },
  {
   "cell_type": "code",
   "execution_count": 44,
   "metadata": {},
   "outputs": [
    {
     "name": "stdout",
     "output_type": "stream",
     "text": [
      "['kkkkkkk_ooooooooo', 'oo_p', 'o_p']\n"
     ]
    }
   ],
   "source": [
    "import re\n",
    "txt = input(\"Enter the string: \")\n",
    "pattern = re.compile(r\"\\b(?:(?:[a-z]+_)+[a-z]+)\\b\")\n",
    "if pattern.findall(txt) != []:\n",
    "    print(pattern.findall(txt))\n",
    "else: print(\"No such word\")\n"
   ]
  },
  {
   "cell_type": "markdown",
   "metadata": {},
   "source": [
    "## 4"
   ]
  },
  {
   "cell_type": "code",
   "execution_count": null,
   "metadata": {},
   "outputs": [
    {
     "name": "stdout",
     "output_type": "stream",
     "text": [
      "['AjjjjjKkkkkkkLkkkkkkOooooo', 'PooooooLppppppGhhhhhhYuuuuuuIoooo']\n"
     ]
    }
   ],
   "source": [
    "import re\n",
    "txt = input(\"Enter the string: \")\n",
    "pattern = re.compile(r\"\\b(?:[A-Z][a-z]+[A-Z]?)+[a-z]*\\b\")\n",
    "if pattern.findall(txt) != []:\n",
    "    print(pattern.findall(txt))\n",
    "else: print(\"No such word\")"
   ]
  },
  {
   "cell_type": "markdown",
   "metadata": {},
   "source": [
    "## 5"
   ]
  },
  {
   "cell_type": "code",
   "execution_count": 50,
   "metadata": {},
   "outputs": [
    {
     "name": "stdout",
     "output_type": "stream",
     "text": [
      "No such word\n"
     ]
    }
   ],
   "source": [
    "import re\n",
    "txt = input(\"Enter the string: \")\n",
    "pattern = re.compile(r\".*a.*b$\")\n",
    "match = pattern.match(txt)\n",
    "if match: print(match.group())\n",
    "else: print(\"No such word\")"
   ]
  },
  {
   "cell_type": "markdown",
   "metadata": {},
   "source": [
    "## 6"
   ]
  },
  {
   "cell_type": "code",
   "execution_count": 1,
   "metadata": {},
   "outputs": [
    {
     "name": "stdout",
     "output_type": "stream",
     "text": [
      "l:sjjssjjjs:ososoosos:ld\n"
     ]
    }
   ],
   "source": [
    "import re\n",
    "txt = input(\"Enter the string: \")\n",
    "pattern = re.compile(r\"[ .,]+\")\n",
    "print(pattern.sub(\":\",txt))"
   ]
  },
  {
   "cell_type": "markdown",
   "metadata": {},
   "source": [
    "## 7"
   ]
  },
  {
   "cell_type": "code",
   "execution_count": 1,
   "metadata": {},
   "outputs": [
    {
     "name": "stdout",
     "output_type": "stream",
     "text": [
      "AB\n"
     ]
    }
   ],
   "source": [
    "import re\n",
    "txt = input(\"Enter the string: \")\n",
    "pattern = r\"_([a-z])\"\n",
    "result=txt[0].upper() + re.sub(pattern,lambda match: match.group(1).upper(),txt[1:])\n",
    "print(result)"
   ]
  },
  {
   "cell_type": "markdown",
   "metadata": {},
   "source": [
    "## 8"
   ]
  },
  {
   "cell_type": "code",
   "execution_count": 11,
   "metadata": {},
   "outputs": [
    {
     "name": "stdout",
     "output_type": "stream",
     "text": [
      "['Kbtu', 'University']\n"
     ]
    }
   ],
   "source": [
    "import re\n",
    "txt = input(\"Enter the string: \")\n",
    "def split_upp(txt):\n",
    "    pattern = r\"[A-Z]?[a-z]*\"\n",
    "    return re.findall(pattern, txt)[:-1]\n",
    "print(split_upp(txt))\n"
   ]
  },
  {
   "cell_type": "markdown",
   "metadata": {},
   "source": [
    "## 8*"
   ]
  },
  {
   "cell_type": "code",
   "execution_count": 3,
   "metadata": {},
   "outputs": [
    {
     "name": "stdout",
     "output_type": "stream",
     "text": [
      "['sjjsjsj', 'jjsjsjs', 'psjsjjs', 'oooo']\n"
     ]
    }
   ],
   "source": [
    "import re\n",
    "txt = input(\"Enter the string: \")\n",
    "def split_upp(txt):\n",
    "    pattern = r\"[A-Z]\"\n",
    "    return re.split(pattern, txt)[1:]\n",
    "print(split_upp(txt))"
   ]
  },
  {
   "cell_type": "markdown",
   "metadata": {},
   "source": [
    "## 9"
   ]
  },
  {
   "cell_type": "code",
   "execution_count": null,
   "metadata": {},
   "outputs": [
    {
     "name": "stdout",
     "output_type": "stream",
     "text": [
      "Some Crazy Stuff And Need K B T U To Be Capita Lized\n"
     ]
    }
   ],
   "source": [
    "import re\n",
    "txt = input(\"Input the string: \")\n",
    "def spaces(txt):\n",
    "    pattern = r\"[A-Z][a-z]*\"\n",
    "    return \" \".join(list(re.findall(pattern, txt)))\n",
    "print(spaces(txt))"
   ]
  },
  {
   "cell_type": "markdown",
   "metadata": {},
   "source": [
    "## 10"
   ]
  },
  {
   "cell_type": "code",
   "execution_count": 21,
   "metadata": {},
   "outputs": [
    {
     "name": "stdout",
     "output_type": "stream",
     "text": [
      "aaaa_ggggg_hhhh_k\n"
     ]
    }
   ],
   "source": [
    "import re \n",
    "txt = input(\"Input the string: \")\n",
    "pattern = r\"[A-Z]\"\n",
    "result = txt[0].lower()+ re.sub(pattern, lambda match: \"_\" + match.group().lower() , txt[1:] )\n",
    "print(result)\n"
   ]
  }
 ],
 "metadata": {
  "kernelspec": {
   "display_name": "base",
   "language": "python",
   "name": "python3"
  },
  "language_info": {
   "codemirror_mode": {
    "name": "ipython",
    "version": 3
   },
   "file_extension": ".py",
   "mimetype": "text/x-python",
   "name": "python",
   "nbconvert_exporter": "python",
   "pygments_lexer": "ipython3",
   "version": "3.12.7"
  }
 },
 "nbformat": 4,
 "nbformat_minor": 2
}
