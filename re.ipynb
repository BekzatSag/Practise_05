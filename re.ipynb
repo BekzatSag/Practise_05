{
 "cells": [
  {
   "cell_type": "code",
   "execution_count": null,
   "metadata": {},
   "outputs": [],
   "source": [
    "#1\n",
    "#abc exist, so we get abc\n",
    "#2\n",
    "#\"a.c\" in text(. is some symbol), so our program give result axc\n",
    "#3\n",
    "# ^ match the begining of the text, so we get abc\n",
    "#4\n",
    "#$ matches the end of the string, so we get abc and ['abc']\n",
    "#5\n",
    "#[] is the list of chars that may be in our text, so in first example we get e and in second example we get ['e','o','o']\n",
    "#6\n",
    "#0-9 contain all elements from 0 to 9 including so we get 1 (search finds first existing element) and ['1', '2', '3', '4', '5', '6', '7', '8', '9']\n",
    "#7\n",
    "# * shows corresponding begining \n",
    "#8\n",
    "#in first example our text starts with ac so it doesnot correspond, in second example our text starts with abc (it is right)\n",
    "#9\n",
    "#? compares each element individually\n",
    "#10\n",
    "#() matches exact elements in the parentheses\n",
    "#11\n",
    "#| is like OR operation\n",
    "#12\n",
    "#\\ finds special symbol, so we get . and ['.','.']"
   ]
  }
 ],
 "metadata": {
  "kernelspec": {
   "display_name": "base",
   "language": "python",
   "name": "python3"
  },
  "language_info": {
   "codemirror_mode": {
    "name": "ipython",
    "version": 3
   },
   "file_extension": ".py",
   "mimetype": "text/x-python",
   "name": "python",
   "nbconvert_exporter": "python",
   "pygments_lexer": "ipython3",
   "version": "3.12.7"
  }
 },
 "nbformat": 4,
 "nbformat_minor": 2
}
